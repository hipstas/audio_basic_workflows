{
 "cells": [
  {
   "cell_type": "markdown",
   "metadata": {},
   "source": [
    "## Segmenting Audio Based on Timestamps"
   ]
  },
  {
   "cell_type": "markdown",
   "metadata": {},
   "source": [
    "This notebook shows a fairly simple way to segment audio based on timestamps. The audio was segmented based on silences in the audio file using Audacity and the Analyze > Silence Finder feature which places a time stamp in the middle of a silence of a determined length minimum. I used a four-second minimum interval in order to find silence in between poetry performances rather silences within a perfomance. I exported the labels and then imported them into Sonic Visualiser where I corrected errors and renamed the labels provided by Audacity (an \"s\" for silence) to the name of the poem being performed. I exported this file and cleaned it up to the expected format needed in the notebook below: *start time*, *end time*, *label*."
   ]
  },
  {
   "cell_type": "code",
   "execution_count": 1,
   "metadata": {},
   "outputs": [],
   "source": [
    "from pydub import AudioSegment"
   ]
  },
  {
   "cell_type": "code",
   "execution_count": 2,
   "metadata": {},
   "outputs": [],
   "source": [
    "# This sound file contains poetry performances by Anne Sexton from the The Voice of the Poet series edited by J.D. McClatchy.\n",
    "sound_file = AudioSegment.from_wav(\"vp_sexton.wav\")"
   ]
  },
  {
   "cell_type": "code",
   "execution_count": 3,
   "metadata": {},
   "outputs": [
    {
     "name": "stdout",
     "output_type": "stream",
     "text": [
      "['12.06', '39.15', 'music']\n",
      "['39.16', '178.82', 'You', 'Dr', 'Martin']\n",
      "['178.83', '308.14', 'Kind', 'Sir', 'These', 'Words']\n",
      "['308.15', '414.91', 'Music', 'Swims', 'Back', 'to', 'Me']\n",
      "['414.92', '517899', 'Elizabeth', 'Gone']\n",
      "['517.9', '810.46', 'Some', 'Foreign', 'Letters']\n",
      "['810.47', '888.86', 'Said', 'the', 'Poet', 'to', 'the', 'Analyst']\n",
      "['888.87', '967.94', 'Her', 'Kind']\n",
      "['967.95', '1196.02', 'Unknown', 'Girl', 'in', 'the', 'Maternity', 'Ward']\n",
      "['1196.03', '1303.1', 'Whats', 'That']\n",
      "['1303.11', '1362.47', 'The', 'Moss', 'of', 'His', 'Skin']\n",
      "['1362.48', '1410.17', 'Noon', 'Walk', 'on', 'the', 'Asylum', 'Lawn']\n",
      "['1410.18', '1492.48', 'Ringing', 'the', 'Bells']\n",
      "['1492.49', '1559.29', 'Lullaby']\n",
      "['1559.3', '1674.55', 'For', 'John', 'Who', 'Begs', 'Me', 'Not', 'to', 'Enquire', 'Further']\n",
      "['1674.56', '1740.9', 'The', 'Truth', 'the', 'Dead', 'Know']\n",
      "['1740.91', '1982.97', 'All', 'My', 'Pretty', 'Ones']\n",
      "['1982.98', '2041.83', 'Young']\n",
      "['2041.84', '2106.72', 'To', 'a', 'Friend', 'Whose', 'Work', 'Has', 'Come', 'to', 'Triumph']\n",
      "['2106.73', '2192.01', 'Old', 'Dwarf', 'Heart']\n",
      "['2192.02', '2589.21', 'The', 'Operation']\n",
      "['2589.22', '2686.03', 'Doors', 'Doors', 'DoorsSection']\n",
      "['2686.04', '2874.64', 'For', 'My', 'Lover', 'Returning', 'to', 'His', 'Wife']\n",
      "['2874.65', '3209.65', 'The', 'Little', 'Peasant']\n",
      "['3209.66', '3329.34', 'The', 'Ambition', 'Bird']\n",
      "['3329.35', '3400.56', 'Gods']\n",
      "['3400.57', '3481.86', 'The', 'Fury', 'of', 'Cocks']\n",
      "['3481.87', '3533.68', 'The', 'Fury', 'of', 'Sunsets']\n",
      "['3533.69', '3682.72', 'The', 'Fury', 'of', 'Sunrises']\n",
      "['3682.73', '3910.68', 'MusicII']\n"
     ]
    }
   ],
   "source": [
    "in_times = open(\"sextontrx.txt\")\n",
    "time_pairs = []\n",
    "for l, line in enumerate(in_times):\n",
    "    tp = line.split()\n",
    "    print(tp)"
   ]
  },
  {
   "cell_type": "code",
   "execution_count": 4,
   "metadata": {},
   "outputs": [
    {
     "name": "stdout",
     "output_type": "stream",
     "text": [
      "[[12060, 39150, 'music'], [39160, 178820, 'YouDrMartin'], [178830, 308140, 'KindSirTheseWords'], [308150, 414910, 'MusicSwimsBacktoMe'], [414920, 517899000, 'ElizabethGone'], [517900, 810460, 'SomeForeignLetters'], [810470, 888860, 'SaidthePoettotheAnalyst'], [888870, 967940, 'HerKind'], [967950, 1196020, 'UnknownGirlintheMaternityWard'], [1196030, 1303100, 'WhatsThat'], [1303110, 1362470, 'TheMossofHisSkin'], [1362480, 1410170, 'NoonWalkontheAsylumLawn'], [1410180, 1492480, 'RingingtheBells'], [1492490, 1559290, 'Lullaby'], [1559300, 1674550, 'ForJohnWhoBegsMeNottoEnquireFurther'], [1674560, 1740900, 'TheTruththeDeadKnow'], [1740910, 1982970, 'AllMyPrettyOnes'], [1982980, 2041830, 'Young'], [2041840, 2106720, 'ToaFriendWhoseWorkHasCometoTriumph'], [2106730, 2192010, 'OldDwarfHeart'], [2192020, 2589210, 'TheOperation'], [2589220, 2686030, 'DoorsDoorsDoorsSection'], [2686040, 2874640, 'ForMyLoverReturningtoHisWife'], [2874650, 3209650, 'TheLittlePeasant'], [3209660, 3329340, 'TheAmbitionBird'], [3329350, 3400560, 'Gods'], [3400570, 3481860, 'TheFuryofCocks'], [3481870, 3533680, 'TheFuryofSunsets'], [3533690, 3682720, 'TheFuryofSunrises'], [3682730, 3910680, 'MusicII']]\n"
     ]
    }
   ],
   "source": [
    "in_times = open(\"sextontrx.txt\")\n",
    "time_pairs = []\n",
    "for l, line in enumerate(in_times):\n",
    "    tp = line.rstrip(\"\\n\").split(\"\\t\")\n",
    "    tp[0] = int(float(tp[0])*1000)\n",
    "    tp[1] = int(float(tp[1])*1000)\n",
    "    tp[2] = tp[2].replace(' ', '')\n",
    "    \n",
    "    time_pairs.append(tp)\n",
    "print(time_pairs)"
   ]
  },
  {
   "cell_type": "code",
   "execution_count": 5,
   "metadata": {},
   "outputs": [
    {
     "name": "stdout",
     "output_type": "stream",
     "text": [
      "exporting .//splitAudio//music.wav\n",
      "exporting .//splitAudio//YouDrMartin.wav\n",
      "exporting .//splitAudio//KindSirTheseWords.wav\n",
      "exporting .//splitAudio//MusicSwimsBacktoMe.wav\n",
      "exporting .//splitAudio//ElizabethGone.wav\n",
      "exporting .//splitAudio//SomeForeignLetters.wav\n",
      "exporting .//splitAudio//SaidthePoettotheAnalyst.wav\n",
      "exporting .//splitAudio//HerKind.wav\n",
      "exporting .//splitAudio//UnknownGirlintheMaternityWard.wav\n",
      "exporting .//splitAudio//WhatsThat.wav\n",
      "exporting .//splitAudio//TheMossofHisSkin.wav\n",
      "exporting .//splitAudio//NoonWalkontheAsylumLawn.wav\n",
      "exporting .//splitAudio//RingingtheBells.wav\n",
      "exporting .//splitAudio//Lullaby.wav\n",
      "exporting .//splitAudio//ForJohnWhoBegsMeNottoEnquireFurther.wav\n",
      "exporting .//splitAudio//TheTruththeDeadKnow.wav\n",
      "exporting .//splitAudio//AllMyPrettyOnes.wav\n",
      "exporting .//splitAudio//Young.wav\n",
      "exporting .//splitAudio//ToaFriendWhoseWorkHasCometoTriumph.wav\n",
      "exporting .//splitAudio//OldDwarfHeart.wav\n",
      "exporting .//splitAudio//TheOperation.wav\n",
      "exporting .//splitAudio//DoorsDoorsDoorsSection.wav\n",
      "exporting .//splitAudio//ForMyLoverReturningtoHisWife.wav\n",
      "exporting .//splitAudio//TheLittlePeasant.wav\n",
      "exporting .//splitAudio//TheAmbitionBird.wav\n",
      "exporting .//splitAudio//Gods.wav\n",
      "exporting .//splitAudio//TheFuryofCocks.wav\n",
      "exporting .//splitAudio//TheFuryofSunsets.wav\n",
      "exporting .//splitAudio//TheFuryofSunrises.wav\n",
      "exporting .//splitAudio//MusicII.wav\n"
     ]
    }
   ],
   "source": [
    "for i in time_pairs:\n",
    "    chunk = sound_file[i[0]:i[1]]\n",
    "    x = i[2]\n",
    "    out_file = \".//splitAudio//%s.wav\".format(i) %x\n",
    "    print(\"exporting\", out_file)\n",
    "    chunk.export(out_file, format=\"wav\")"
   ]
  },
  {
   "cell_type": "code",
   "execution_count": null,
   "metadata": {},
   "outputs": [],
   "source": []
  },
  {
   "cell_type": "code",
   "execution_count": null,
   "metadata": {},
   "outputs": [],
   "source": []
  },
  {
   "cell_type": "code",
   "execution_count": null,
   "metadata": {},
   "outputs": [],
   "source": []
  }
 ],
 "metadata": {
  "kernelspec": {
   "display_name": "Python 3",
   "language": "python",
   "name": "python3"
  },
  "language_info": {
   "codemirror_mode": {
    "name": "ipython",
    "version": 3
   },
   "file_extension": ".py",
   "mimetype": "text/x-python",
   "name": "python",
   "nbconvert_exporter": "python",
   "pygments_lexer": "ipython3",
   "version": "3.6.4"
  }
 },
 "nbformat": 4,
 "nbformat_minor": 2
}
